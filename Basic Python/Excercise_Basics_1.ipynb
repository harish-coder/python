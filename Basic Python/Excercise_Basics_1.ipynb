{
 "cells": [
  {
   "cell_type": "markdown",
   "metadata": {},
   "source": [
    "# Different ways to run Python?\n",
    "\n",
    "1. IDE - Itegrated Developement Environment\n",
    "2. Terminal - Command Prompt - Python Console\n",
    "3. Script mode - .py\n"
   ]
  },
  {
   "cell_type": "raw",
   "metadata": {},
   "source": [
    "1. Run a Sample command line Script using !. Hint: PresentWorkingDirectory"
   ]
  },
  {
   "cell_type": "code",
   "execution_count": 1,
   "metadata": {},
   "outputs": [
    {
     "data": {
      "text/plain": [
       "'C:\\\\Users\\\\z023208\\\\OneDrive - Alliance\\\\Inspector\\\\noordheen\\\\python\\\\python-basic'"
      ]
     },
     "execution_count": 1,
     "metadata": {},
     "output_type": "execute_result"
    }
   ],
   "source": [
    "pwd"
   ]
  },
  {
   "cell_type": "markdown",
   "metadata": {},
   "source": [
    "# Identifier rule\n",
    "1. Cannot be a keyword\n",
    "2. Should not start with a number\n",
    "3. Should not have a space in between\n",
    "4. No Special characters like !@#$%\n",
    "5. It should be range a-z and A-Z\n",
    "6. It is case Sensitive"
   ]
  },
  {
   "cell_type": "raw",
   "metadata": {},
   "source": [
    "2. Define a Identifier with a keyword. Hint: control Statement, datatypes, datastructures"
   ]
  },
  {
   "cell_type": "code",
   "execution_count": 2,
   "metadata": {},
   "outputs": [
    {
     "ename": "SyntaxError",
     "evalue": "invalid syntax (<ipython-input-2-563084b3e606>, line 1)",
     "output_type": "error",
     "traceback": [
      "\u001b[1;36m  File \u001b[1;32m\"<ipython-input-2-563084b3e606>\"\u001b[1;36m, line \u001b[1;32m1\u001b[0m\n\u001b[1;33m    if = 10\u001b[0m\n\u001b[1;37m       ^\u001b[0m\n\u001b[1;31mSyntaxError\u001b[0m\u001b[1;31m:\u001b[0m invalid syntax\n"
     ]
    }
   ],
   "source": [
    "if = 10"
   ]
  },
  {
   "cell_type": "raw",
   "metadata": {},
   "source": [
    "3. Declare a variable name \"age\" and assign your age"
   ]
  },
  {
   "cell_type": "code",
   "execution_count": 3,
   "metadata": {},
   "outputs": [],
   "source": [
    "age = 27"
   ]
  },
  {
   "cell_type": "raw",
   "metadata": {},
   "source": [
    "4. Declare a variable name \"ag e\" and assign your age"
   ]
  },
  {
   "cell_type": "code",
   "execution_count": 4,
   "metadata": {},
   "outputs": [
    {
     "ename": "SyntaxError",
     "evalue": "invalid syntax (<ipython-input-4-11f5989c42b7>, line 1)",
     "output_type": "error",
     "traceback": [
      "\u001b[1;36m  File \u001b[1;32m\"<ipython-input-4-11f5989c42b7>\"\u001b[1;36m, line \u001b[1;32m1\u001b[0m\n\u001b[1;33m    ag e =27\u001b[0m\n\u001b[1;37m       ^\u001b[0m\n\u001b[1;31mSyntaxError\u001b[0m\u001b[1;31m:\u001b[0m invalid syntax\n"
     ]
    }
   ],
   "source": [
    "ag e =27"
   ]
  },
  {
   "cell_type": "raw",
   "metadata": {},
   "source": [
    "5. Declare a variable name \"1age\" and assign your age"
   ]
  },
  {
   "cell_type": "code",
   "execution_count": 5,
   "metadata": {},
   "outputs": [
    {
     "ename": "SyntaxError",
     "evalue": "invalid syntax (<ipython-input-5-c13082d14f0a>, line 1)",
     "output_type": "error",
     "traceback": [
      "\u001b[1;36m  File \u001b[1;32m\"<ipython-input-5-c13082d14f0a>\"\u001b[1;36m, line \u001b[1;32m1\u001b[0m\n\u001b[1;33m    1age = 27\u001b[0m\n\u001b[1;37m       ^\u001b[0m\n\u001b[1;31mSyntaxError\u001b[0m\u001b[1;31m:\u001b[0m invalid syntax\n"
     ]
    }
   ],
   "source": [
    "1age = 27"
   ]
  },
  {
   "cell_type": "raw",
   "metadata": {},
   "source": [
    "6. Declare a variable name \"age$\" and assign your age"
   ]
  },
  {
   "cell_type": "code",
   "execution_count": 6,
   "metadata": {},
   "outputs": [
    {
     "ename": "SyntaxError",
     "evalue": "invalid syntax (<ipython-input-6-02b837925f30>, line 1)",
     "output_type": "error",
     "traceback": [
      "\u001b[1;36m  File \u001b[1;32m\"<ipython-input-6-02b837925f30>\"\u001b[1;36m, line \u001b[1;32m1\u001b[0m\n\u001b[1;33m    age$ = 27\u001b[0m\n\u001b[1;37m       ^\u001b[0m\n\u001b[1;31mSyntaxError\u001b[0m\u001b[1;31m:\u001b[0m invalid syntax\n"
     ]
    }
   ],
   "source": [
    "age$ = 27"
   ]
  },
  {
   "cell_type": "raw",
   "metadata": {},
   "source": [
    "7. Declare a variable name \"_age\" and assign your age"
   ]
  },
  {
   "cell_type": "code",
   "execution_count": 7,
   "metadata": {},
   "outputs": [],
   "source": [
    "_age = 27"
   ]
  },
  {
   "cell_type": "raw",
   "metadata": {},
   "source": [
    "9. Call print function with variable \"Age\" "
   ]
  },
  {
   "cell_type": "code",
   "execution_count": 8,
   "metadata": {},
   "outputs": [
    {
     "ename": "NameError",
     "evalue": "name 'Age' is not defined",
     "output_type": "error",
     "traceback": [
      "\u001b[1;31m---------------------------------------------------------------------------\u001b[0m",
      "\u001b[1;31mNameError\u001b[0m                                 Traceback (most recent call last)",
      "\u001b[1;32m<ipython-input-8-9d48a2efbe69>\u001b[0m in \u001b[0;36m<module>\u001b[1;34m()\u001b[0m\n\u001b[1;32m----> 1\u001b[1;33m \u001b[0mprint\u001b[0m\u001b[1;33m(\u001b[0m\u001b[0mAge\u001b[0m\u001b[1;33m)\u001b[0m\u001b[1;33m\u001b[0m\u001b[0m\n\u001b[0m",
      "\u001b[1;31mNameError\u001b[0m: name 'Age' is not defined"
     ]
    }
   ],
   "source": [
    "print(Age)"
   ]
  },
  {
   "cell_type": "markdown",
   "metadata": {},
   "source": [
    "# Assignment Operator\n",
    "\n",
    "\n",
    "Dynamically typed Programming language"
   ]
  },
  {
   "cell_type": "markdown",
   "metadata": {},
   "source": [
    "10. Define a variable \"name\" and assign your name in quotes"
   ]
  },
  {
   "cell_type": "code",
   "execution_count": null,
   "metadata": {},
   "outputs": [],
   "source": [
    "name = \"Harish ARUMUGAM\""
   ]
  },
  {
   "cell_type": "code",
   "execution_count": null,
   "metadata": {},
   "outputs": [],
   "source": [
    "11. Define a variable \"name\", \"age\", \"gender\",\"salary\" and assign it one line.\n",
    "hint : name,age,gender,salary = ...,...,...,...\n",
    "Define a salary in float value"
   ]
  },
  {
   "cell_type": "code",
   "execution_count": 10,
   "metadata": {},
   "outputs": [],
   "source": [
    " name,age,gender,salary = \"Harish ARUMUGAM\",26,\"Male\",15000.500"
   ]
  },
  {
   "cell_type": "markdown",
   "metadata": {},
   "source": [
    "12. Find the datatype of each variable using the function type"
   ]
  },
  {
   "cell_type": "code",
   "execution_count": 11,
   "metadata": {},
   "outputs": [
    {
     "name": "stdout",
     "output_type": "stream",
     "text": [
      "<class 'str'>\n"
     ]
    }
   ],
   "source": [
    "print(type(name))"
   ]
  },
  {
   "cell_type": "code",
   "execution_count": 12,
   "metadata": {},
   "outputs": [
    {
     "name": "stdout",
     "output_type": "stream",
     "text": [
      "<class 'int'>\n"
     ]
    }
   ],
   "source": [
    "print(type(age))"
   ]
  },
  {
   "cell_type": "code",
   "execution_count": 13,
   "metadata": {},
   "outputs": [
    {
     "name": "stdout",
     "output_type": "stream",
     "text": [
      "<class 'str'>\n"
     ]
    }
   ],
   "source": [
    "print(type(gender))"
   ]
  },
  {
   "cell_type": "code",
   "execution_count": 14,
   "metadata": {},
   "outputs": [
    {
     "name": "stdout",
     "output_type": "stream",
     "text": [
      "<class 'float'>\n"
     ]
    }
   ],
   "source": [
    "print(type(salary))"
   ]
  },
  {
   "cell_type": "markdown",
   "metadata": {},
   "source": [
    "# Data Structures"
   ]
  },
  {
   "cell_type": "markdown",
   "metadata": {},
   "source": [
    "1. List\n",
    "2. Tuple\n",
    "3. Set\n",
    "4. Dictionary\n",
    "5. String"
   ]
  },
  {
   "cell_type": "markdown",
   "metadata": {},
   "source": [
    "# 1. List\n",
    "\n",
    "## a. Allows Heterogenous\n",
    "## b. index starts from 0\n",
    "## c. Mutable \n",
    "## d. []"
   ]
  },
  {
   "cell_type": "raw",
   "metadata": {},
   "source": [
    "13. Create a list of a random number, string and list with a variable name \"myList\""
   ]
  },
  {
   "cell_type": "code",
   "execution_count": 15,
   "metadata": {},
   "outputs": [],
   "source": [
    "myList = [1,\"harish\",[1,5,7,True,\"play\"]]"
   ]
  },
  {
   "cell_type": "raw",
   "metadata": {},
   "source": [
    "14. Check the datatype of \"myList\""
   ]
  },
  {
   "cell_type": "code",
   "execution_count": 17,
   "metadata": {},
   "outputs": [
    {
     "name": "stdout",
     "output_type": "stream",
     "text": [
      "<class 'list'>\n"
     ]
    }
   ],
   "source": [
    "print(type(myList))"
   ]
  },
  {
   "cell_type": "raw",
   "metadata": {},
   "source": [
    "15. Retrieve the 2nd element of \"myList\" using the index and print"
   ]
  },
  {
   "cell_type": "code",
   "execution_count": 18,
   "metadata": {},
   "outputs": [
    {
     "name": "stdout",
     "output_type": "stream",
     "text": [
      "harish\n"
     ]
    }
   ],
   "source": [
    "print(myList[1])"
   ]
  },
  {
   "cell_type": "raw",
   "metadata": {},
   "source": [
    "16. Retrieve the 1st element of a list inside a \"myList\" using the index and print"
   ]
  },
  {
   "cell_type": "code",
   "execution_count": 19,
   "metadata": {},
   "outputs": [
    {
     "name": "stdout",
     "output_type": "stream",
     "text": [
      "1\n"
     ]
    }
   ],
   "source": [
    "print(myList[0])"
   ]
  },
  {
   "cell_type": "raw",
   "metadata": {},
   "source": [
    "17. Change the 2nd element of \"myList\" as your name using the index  and print the complete list"
   ]
  },
  {
   "cell_type": "code",
   "execution_count": 20,
   "metadata": {},
   "outputs": [],
   "source": [
    "myList[1] = \"Harish ARUMUGAM\""
   ]
  },
  {
   "cell_type": "raw",
   "metadata": {},
   "source": [
    "18. Print the lenght of the list \"myList\""
   ]
  },
  {
   "cell_type": "code",
   "execution_count": 22,
   "metadata": {},
   "outputs": [
    {
     "data": {
      "text/plain": [
       "3"
      ]
     },
     "execution_count": 22,
     "metadata": {},
     "output_type": "execute_result"
    }
   ],
   "source": [
    "len(myList)"
   ]
  },
  {
   "cell_type": "raw",
   "metadata": {},
   "source": [
    "19. Explore the readymade functions of list"
   ]
  },
  {
   "cell_type": "code",
   "execution_count": 34,
   "metadata": {},
   "outputs": [
    {
     "name": "stdout",
     "output_type": "stream",
     "text": [
      "[1, 'Harish ARUMUGAM', [1, 5, 7, True, 'play']]\n"
     ]
    }
   ],
   "source": [
    "myList.append(\"New PlayGround\");\n",
    "myList.remove(\"New PlayGround\");\n",
    "\n",
    "print(myList)"
   ]
  },
  {
   "cell_type": "markdown",
   "metadata": {},
   "source": [
    "# 2. Tuple\n",
    "## a. Allows Heterogenous\n",
    "## b. index starts from 0\n",
    "## c. Immutable\n",
    "## d. ()"
   ]
  },
  {
   "cell_type": "raw",
   "metadata": {},
   "source": [
    "20. Create a tuple of a random number, string and list with a variable name \"myTuple\""
   ]
  },
  {
   "cell_type": "code",
   "execution_count": 36,
   "metadata": {},
   "outputs": [
    {
     "name": "stdout",
     "output_type": "stream",
     "text": [
      "(1, 'Harish ARUMUGAM', [1, 'Harish ARUMUGAM', [1, 5, 7, True, 'play']])\n"
     ]
    }
   ],
   "source": [
    "myTuple = (1,\"Harish ARUMUGAM\",myList)\n",
    "print(myTuple)"
   ]
  },
  {
   "cell_type": "raw",
   "metadata": {},
   "source": [
    "21. Check the datatype of \"myList\""
   ]
  },
  {
   "cell_type": "code",
   "execution_count": 37,
   "metadata": {},
   "outputs": [
    {
     "name": "stdout",
     "output_type": "stream",
     "text": [
      "(1, 'Harish ARUMUGAM', [1, 'Harish ARUMUGAM', [1, 5, 7, True, 'play']])\n"
     ]
    }
   ],
   "source": [
    "print(myTuple)"
   ]
  },
  {
   "cell_type": "raw",
   "metadata": {},
   "source": [
    "22. Retrieve the 2nd element of \"Tuple\" using the index and print"
   ]
  },
  {
   "cell_type": "code",
   "execution_count": 38,
   "metadata": {},
   "outputs": [
    {
     "name": "stdout",
     "output_type": "stream",
     "text": [
      "Harish ARUMUGAM\n"
     ]
    }
   ],
   "source": [
    "print(myTuple[1]);"
   ]
  },
  {
   "cell_type": "raw",
   "metadata": {},
   "source": [
    "23. Retrieve the 1st element of a list inside a \"myTuple\" using the index and print\n"
   ]
  },
  {
   "cell_type": "code",
   "execution_count": 39,
   "metadata": {},
   "outputs": [
    {
     "name": "stdout",
     "output_type": "stream",
     "text": [
      "1\n"
     ]
    }
   ],
   "source": [
    "print(myTuple[0]);"
   ]
  },
  {
   "cell_type": "raw",
   "metadata": {},
   "source": [
    "24. Change the 2nd element of \"myTuple\" as your name using the index  and print the complete tuple\n"
   ]
  },
  {
   "cell_type": "code",
   "execution_count": 40,
   "metadata": {},
   "outputs": [
    {
     "ename": "TypeError",
     "evalue": "'tuple' object does not support item assignment",
     "output_type": "error",
     "traceback": [
      "\u001b[1;31m---------------------------------------------------------------------------\u001b[0m",
      "\u001b[1;31mTypeError\u001b[0m                                 Traceback (most recent call last)",
      "\u001b[1;32m<ipython-input-40-4c99fdfed939>\u001b[0m in \u001b[0;36m<module>\u001b[1;34m()\u001b[0m\n\u001b[1;32m----> 1\u001b[1;33m \u001b[0mmyTuple\u001b[0m\u001b[1;33m[\u001b[0m\u001b[1;36m1\u001b[0m\u001b[1;33m]\u001b[0m \u001b[1;33m=\u001b[0m \u001b[1;34m\"HARISH ARUMUGAM\"\u001b[0m\u001b[1;33m\u001b[0m\u001b[0m\n\u001b[0m",
      "\u001b[1;31mTypeError\u001b[0m: 'tuple' object does not support item assignment"
     ]
    }
   ],
   "source": [
    "myTuple[1] = \"HARISH ARUMUGAM\""
   ]
  },
  {
   "cell_type": "markdown",
   "metadata": {},
   "source": [
    "# 3. Set\n",
    "## a. Allows Heterogenous\n",
    "## b. Does not allows duplicates\n",
    "## c. Cannot access using index\n",
    "## d. Sometimes it is ordered\n"
   ]
  },
  {
   "cell_type": "raw",
   "metadata": {},
   "source": [
    "25. Create a set of a random number with duplicates and string  with a variable name \"mySet\""
   ]
  },
  {
   "cell_type": "code",
   "execution_count": 50,
   "metadata": {},
   "outputs": [],
   "source": [
    "mySet = {0,\"harish\",7,7,8,8888,True,False,False}"
   ]
  },
  {
   "cell_type": "raw",
   "metadata": {},
   "source": [
    "26. Check the datatype of \"myList\""
   ]
  },
  {
   "cell_type": "code",
   "execution_count": 51,
   "metadata": {},
   "outputs": [
    {
     "name": "stdout",
     "output_type": "stream",
     "text": [
      "<class 'set'>\n"
     ]
    }
   ],
   "source": [
    "print(type(mySet))"
   ]
  },
  {
   "cell_type": "raw",
   "metadata": {},
   "source": [
    "27. Retrieve the 2nd element of \"mySet\" using the index and print"
   ]
  },
  {
   "cell_type": "code",
   "execution_count": 52,
   "metadata": {},
   "outputs": [
    {
     "name": "stdout",
     "output_type": "stream",
     "text": [
      "{0, True, 7, 8, 8888, 'harish'}\n"
     ]
    }
   ],
   "source": [
    "print(mySet);"
   ]
  },
  {
   "cell_type": "raw",
   "metadata": {},
   "source": [
    "28. Add a data using readymade add function"
   ]
  },
  {
   "cell_type": "code",
   "execution_count": 53,
   "metadata": {},
   "outputs": [],
   "source": [
    "mySet.add(9)  "
   ]
  },
  {
   "cell_type": "raw",
   "metadata": {},
   "source": [
    "29. Print \"mySet\""
   ]
  },
  {
   "cell_type": "code",
   "execution_count": 54,
   "metadata": {},
   "outputs": [
    {
     "name": "stdout",
     "output_type": "stream",
     "text": [
      "{0, True, 7, 8, 9, 8888, 'harish'}\n"
     ]
    }
   ],
   "source": [
    "print(mySet)"
   ]
  },
  {
   "cell_type": "markdown",
   "metadata": {},
   "source": [
    "# Dictionary \n",
    "## 1. key value pair datastructure\n",
    "## 2. key is unique value and cannot duplicated \n",
    "## 3. can retrieve values using the key\n",
    "## 4. key is immutable\n",
    "## 5. value is muttable\n"
   ]
  },
  {
   "cell_type": "raw",
   "metadata": {},
   "source": [
    "30. Create a dictionary of a name, age, gender, salary with a variable name \"myDict\""
   ]
  },
  {
   "cell_type": "code",
   "execution_count": 58,
   "metadata": {},
   "outputs": [],
   "source": [
    "myDict = {'name':'Harish ARUMUGAM','age':27,'gender':'male','salary':195.545}"
   ]
  },
  {
   "cell_type": "raw",
   "metadata": {},
   "source": [
    "31. Access the age using \"age\" as index"
   ]
  },
  {
   "cell_type": "code",
   "execution_count": 60,
   "metadata": {},
   "outputs": [
    {
     "name": "stdout",
     "output_type": "stream",
     "text": [
      "27\n"
     ]
    }
   ],
   "source": [
    "print(myDict['age']);"
   ]
  },
  {
   "cell_type": "raw",
   "metadata": {},
   "source": [
    "32. Change the age using \"age\" as index"
   ]
  },
  {
   "cell_type": "code",
   "execution_count": 61,
   "metadata": {},
   "outputs": [],
   "source": [
    "myDict['age'] =28"
   ]
  },
  {
   "cell_type": "code",
   "execution_count": null,
   "metadata": {},
   "outputs": [],
   "source": [
    "33. Print the myDict"
   ]
  },
  {
   "cell_type": "code",
   "execution_count": 62,
   "metadata": {},
   "outputs": [
    {
     "name": "stdout",
     "output_type": "stream",
     "text": [
      "{'name': 'Harish ARUMUGAM', 'age': 28, 'gender': 'male', 'salary': 195.545}\n"
     ]
    }
   ],
   "source": [
    "print(myDict)"
   ]
  },
  {
   "cell_type": "code",
   "execution_count": 68,
   "metadata": {},
   "outputs": [
    {
     "data": {
      "text/plain": [
       "'Harish ARUMUGAM'"
      ]
     },
     "execution_count": 68,
     "metadata": {},
     "output_type": "execute_result"
    }
   ],
   "source": [
    "\n",
    "myDict.pop('name')"
   ]
  },
  {
   "cell_type": "code",
   "execution_count": 69,
   "metadata": {},
   "outputs": [
    {
     "data": {
      "text/plain": [
       "{'age': 28, 'gender': 'male', 'salary': 195.545}"
      ]
     },
     "execution_count": 69,
     "metadata": {},
     "output_type": "execute_result"
    }
   ],
   "source": [
    "myDict"
   ]
  },
  {
   "cell_type": "code",
   "execution_count": null,
   "metadata": {},
   "outputs": [],
   "source": []
  }
 ],
 "metadata": {
  "kernelspec": {
   "display_name": "Python 3",
   "language": "python",
   "name": "python3"
  },
  "language_info": {
   "codemirror_mode": {
    "name": "ipython",
    "version": 3
   },
   "file_extension": ".py",
   "mimetype": "text/x-python",
   "name": "python",
   "nbconvert_exporter": "python",
   "pygments_lexer": "ipython3",
   "version": "3.6.4"
  }
 },
 "nbformat": 4,
 "nbformat_minor": 2
}
